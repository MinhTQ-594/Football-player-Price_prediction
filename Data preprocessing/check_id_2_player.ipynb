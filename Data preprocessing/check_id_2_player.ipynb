{
 "cells": [
  {
   "cell_type": "code",
   "execution_count": 33,
   "metadata": {},
   "outputs": [],
   "source": [
    "import pandas as pd"
   ]
  },
  {
   "cell_type": "code",
   "execution_count": 34,
   "metadata": {},
   "outputs": [],
   "source": [
    "identify = pd.read_csv('../Data/identify.csv')"
   ]
  },
  {
   "cell_type": "code",
   "execution_count": 35,
   "metadata": {},
   "outputs": [],
   "source": [
    "player = pd.read_csv('../Data/Clean/Player.csv')"
   ]
  },
  {
   "cell_type": "code",
   "execution_count": 36,
   "metadata": {},
   "outputs": [
    {
     "data": {
      "text/plain": [
       "player_id         0\n",
       "name              0\n",
       "club              0\n",
       "team_match    14463\n",
       "dtype: int64"
      ]
     },
     "execution_count": 36,
     "metadata": {},
     "output_type": "execute_result"
    }
   ],
   "source": [
    "identify.isna().sum()"
   ]
  },
  {
   "cell_type": "code",
   "execution_count": 37,
   "metadata": {},
   "outputs": [],
   "source": [
    "# # Create a merge condition based on player name and substring matching for team names\n",
    "# identify['team_match'] = identify['club'].apply(\n",
    "#     lambda x: next((team for team in player['Team Name'] if team in x), None)\n",
    "# )"
   ]
  },
  {
   "cell_type": "code",
   "execution_count": 38,
   "metadata": {},
   "outputs": [],
   "source": [
    "#identify.to_csv('../Data/identify.csv', index=False)"
   ]
  },
  {
   "cell_type": "code",
   "execution_count": 39,
   "metadata": {},
   "outputs": [],
   "source": [
    "# identify['name'] = identify['name'].str.lower()\n",
    "# identify['team_match'] = identify['team_match'].str.lower()"
   ]
  },
  {
   "cell_type": "code",
   "execution_count": 40,
   "metadata": {},
   "outputs": [],
   "source": [
    "# player['Player'] = player['Player'].str.lower()\n",
    "# player['Team Name'] = player['Team Name'].str.lower()"
   ]
  },
  {
   "cell_type": "code",
   "execution_count": 41,
   "metadata": {},
   "outputs": [],
   "source": [
    "# player.to_csv('../Data/Clean/Player_Gr.csv', index=False) "
   ]
  },
  {
   "cell_type": "code",
   "execution_count": 42,
   "metadata": {},
   "outputs": [
    {
     "name": "stdout",
     "output_type": "stream",
     "text": [
      "Unique in df1: False\n"
     ]
    }
   ],
   "source": [
    "# Replace 'col1' and 'col2' with your chosen columns\n",
    "key_columns = ['player_id', 'team_match']\n",
    "\n",
    "# Check uniqueness in df1\n",
    "is_unique_df1 = not identify.duplicated(subset=key_columns).any()\n",
    "\n",
    "\n",
    "print(f\"Unique in df1: {is_unique_df1}\")"
   ]
  },
  {
   "cell_type": "code",
   "execution_count": 43,
   "metadata": {},
   "outputs": [
    {
     "name": "stdout",
     "output_type": "stream",
     "text": [
      "Duplicates in df1:\n",
      "       player_id           name                                   club  \\\n",
      "402         7161  jonas hofmann                      Borussia Dortmund   \n",
      "404         7161  jonas hofmann                         B. Dortmund II   \n",
      "405         7161  jonas hofmann                         Hoffenheim U19   \n",
      "406         7161  jonas hofmann                         Hoffenheim U17   \n",
      "407         7161  jonas hofmann                        Hoffenheim Yth.   \n",
      "...          ...            ...                                    ...   \n",
      "31098    1184137  yassin tallal  Getafe Club  Fútbol S.A.D. Team Dubai   \n",
      "31100    1222050  rocco di vico                    US Salernitana 1919   \n",
      "31101    1230202  borja vázquez                               Cádiz CF   \n",
      "31102    1237073   lander emery              Aston Villa Football Club   \n",
      "31103    1255616  alberto risco  Getafe Club  Fútbol S.A.D. Team Dubai   \n",
      "\n",
      "        team_match  \n",
      "402       dortmund  \n",
      "404       dortmund  \n",
      "405     hoffenheim  \n",
      "406     hoffenheim  \n",
      "407     hoffenheim  \n",
      "...            ...  \n",
      "31098       getafe  \n",
      "31100  salernitana  \n",
      "31101        cádiz  \n",
      "31102  aston villa  \n",
      "31103       getafe  \n",
      "\n",
      "[16808 rows x 4 columns]\n"
     ]
    }
   ],
   "source": [
    "duplicates_df1 = identify[identify.duplicated(subset=key_columns, keep=False)]\n",
    " \n",
    "print(\"Duplicates in df1:\")\n",
    "print(duplicates_df1)"
   ]
  },
  {
   "cell_type": "code",
   "execution_count": 44,
   "metadata": {},
   "outputs": [],
   "source": [
    "# Merge using the refined match\n",
    "merged_df = pd.merge(identify, player, \n",
    "                     left_on=['name', 'team_match'], \n",
    "                     right_on=['Player', 'Team Name'], \n",
    "                     how='right')"
   ]
  },
  {
   "cell_type": "code",
   "execution_count": 45,
   "metadata": {},
   "outputs": [
    {
     "data": {
      "text/plain": [
       "player_id     20175\n",
       "name          20175\n",
       "club          20175\n",
       "team_match    20175\n",
       "Player            0\n",
       "              ...  \n",
       "game_id           0\n",
       "Wk                0\n",
       "season            0\n",
       "Date              0\n",
       "Team Name         0\n",
       "Length: 132, dtype: int64"
      ]
     },
     "execution_count": 45,
     "metadata": {},
     "output_type": "execute_result"
    }
   ],
   "source": [
    "merged_df.isna().sum()"
   ]
  },
  {
   "cell_type": "code",
   "execution_count": 46,
   "metadata": {},
   "outputs": [
    {
     "data": {
      "text/html": [
       "<div>\n",
       "<style scoped>\n",
       "    .dataframe tbody tr th:only-of-type {\n",
       "        vertical-align: middle;\n",
       "    }\n",
       "\n",
       "    .dataframe tbody tr th {\n",
       "        vertical-align: top;\n",
       "    }\n",
       "\n",
       "    .dataframe thead th {\n",
       "        text-align: right;\n",
       "    }\n",
       "</style>\n",
       "<table border=\"1\" class=\"dataframe\">\n",
       "  <thead>\n",
       "    <tr style=\"text-align: right;\">\n",
       "      <th></th>\n",
       "      <th>player_id</th>\n",
       "      <th>name</th>\n",
       "      <th>club</th>\n",
       "      <th>team_match</th>\n",
       "      <th>Player</th>\n",
       "      <th>#</th>\n",
       "      <th>Nation</th>\n",
       "      <th>Pos</th>\n",
       "      <th>Age</th>\n",
       "      <th>Min</th>\n",
       "      <th>...</th>\n",
       "      <th>Miscellaneous_Stats_Recov</th>\n",
       "      <th>Miscellaneous_Stats_Won</th>\n",
       "      <th>Miscellaneous_Stats_Lost</th>\n",
       "      <th>Miscellaneous_Stats_Won%</th>\n",
       "      <th>home</th>\n",
       "      <th>game_id</th>\n",
       "      <th>Wk</th>\n",
       "      <th>season</th>\n",
       "      <th>Date</th>\n",
       "      <th>Team Name</th>\n",
       "    </tr>\n",
       "  </thead>\n",
       "  <tbody>\n",
       "    <tr>\n",
       "      <th>7</th>\n",
       "      <td>NaN</td>\n",
       "      <td>NaN</td>\n",
       "      <td>NaN</td>\n",
       "      <td>NaN</td>\n",
       "      <td>abderrahman rebbach</td>\n",
       "      <td>21.0</td>\n",
       "      <td>dz ALG</td>\n",
       "      <td>LW</td>\n",
       "      <td>25-289</td>\n",
       "      <td>14.0</td>\n",
       "      <td>...</td>\n",
       "      <td>1.0</td>\n",
       "      <td>0.0</td>\n",
       "      <td>0.0</td>\n",
       "      <td>NaN</td>\n",
       "      <td>0</td>\n",
       "      <td>377</td>\n",
       "      <td>38.0</td>\n",
       "      <td>2023-2024</td>\n",
       "      <td>2024-05-26</td>\n",
       "      <td>alavés</td>\n",
       "    </tr>\n",
       "    <tr>\n",
       "      <th>13</th>\n",
       "      <td>NaN</td>\n",
       "      <td>NaN</td>\n",
       "      <td>NaN</td>\n",
       "      <td>NaN</td>\n",
       "      <td>adam marušić</td>\n",
       "      <td>77.0</td>\n",
       "      <td>me MNE</td>\n",
       "      <td>LB</td>\n",
       "      <td>31-222</td>\n",
       "      <td>90.0</td>\n",
       "      <td>...</td>\n",
       "      <td>4.0</td>\n",
       "      <td>1.0</td>\n",
       "      <td>0.0</td>\n",
       "      <td>100.0</td>\n",
       "      <td>1</td>\n",
       "      <td>375</td>\n",
       "      <td>38.0</td>\n",
       "      <td>2023-2024</td>\n",
       "      <td>2024-05-26</td>\n",
       "      <td>lazio</td>\n",
       "    </tr>\n",
       "    <tr>\n",
       "      <th>14</th>\n",
       "      <td>NaN</td>\n",
       "      <td>NaN</td>\n",
       "      <td>NaN</td>\n",
       "      <td>NaN</td>\n",
       "      <td>adam marušić</td>\n",
       "      <td>77.0</td>\n",
       "      <td>me MNE</td>\n",
       "      <td>LB</td>\n",
       "      <td>31-222</td>\n",
       "      <td>90.0</td>\n",
       "      <td>...</td>\n",
       "      <td>4.0</td>\n",
       "      <td>1.0</td>\n",
       "      <td>0.0</td>\n",
       "      <td>100.0</td>\n",
       "      <td>1</td>\n",
       "      <td>375</td>\n",
       "      <td>38.0</td>\n",
       "      <td>2023-2024</td>\n",
       "      <td>2024-05-26</td>\n",
       "      <td>lazio</td>\n",
       "    </tr>\n",
       "    <tr>\n",
       "      <th>21</th>\n",
       "      <td>NaN</td>\n",
       "      <td>NaN</td>\n",
       "      <td>NaN</td>\n",
       "      <td>NaN</td>\n",
       "      <td>adri embarba</td>\n",
       "      <td>10.0</td>\n",
       "      <td>es ESP</td>\n",
       "      <td>LW</td>\n",
       "      <td>32-018</td>\n",
       "      <td>90.0</td>\n",
       "      <td>...</td>\n",
       "      <td>4.0</td>\n",
       "      <td>1.0</td>\n",
       "      <td>0.0</td>\n",
       "      <td>100.0</td>\n",
       "      <td>1</td>\n",
       "      <td>373</td>\n",
       "      <td>38.0</td>\n",
       "      <td>2023-2024</td>\n",
       "      <td>2024-05-25</td>\n",
       "      <td>almería</td>\n",
       "    </tr>\n",
       "    <tr>\n",
       "      <th>22</th>\n",
       "      <td>NaN</td>\n",
       "      <td>NaN</td>\n",
       "      <td>NaN</td>\n",
       "      <td>NaN</td>\n",
       "      <td>adrien tameze</td>\n",
       "      <td>61.0</td>\n",
       "      <td>cm CMR</td>\n",
       "      <td>CM</td>\n",
       "      <td>30-112</td>\n",
       "      <td>71.0</td>\n",
       "      <td>...</td>\n",
       "      <td>2.0</td>\n",
       "      <td>0.0</td>\n",
       "      <td>0.0</td>\n",
       "      <td>NaN</td>\n",
       "      <td>0</td>\n",
       "      <td>373</td>\n",
       "      <td>38.0</td>\n",
       "      <td>2023-2024</td>\n",
       "      <td>2024-05-26</td>\n",
       "      <td>torino</td>\n",
       "    </tr>\n",
       "  </tbody>\n",
       "</table>\n",
       "<p>5 rows × 132 columns</p>\n",
       "</div>"
      ],
      "text/plain": [
       "    player_id name club team_match               Player     #  Nation Pos  \\\n",
       "7         NaN  NaN  NaN        NaN  abderrahman rebbach  21.0  dz ALG  LW   \n",
       "13        NaN  NaN  NaN        NaN         adam marušić  77.0  me MNE  LB   \n",
       "14        NaN  NaN  NaN        NaN         adam marušić  77.0  me MNE  LB   \n",
       "21        NaN  NaN  NaN        NaN         adri embarba  10.0  es ESP  LW   \n",
       "22        NaN  NaN  NaN        NaN        adrien tameze  61.0  cm CMR  CM   \n",
       "\n",
       "       Age   Min  ...  Miscellaneous_Stats_Recov  Miscellaneous_Stats_Won  \\\n",
       "7   25-289  14.0  ...                        1.0                      0.0   \n",
       "13  31-222  90.0  ...                        4.0                      1.0   \n",
       "14  31-222  90.0  ...                        4.0                      1.0   \n",
       "21  32-018  90.0  ...                        4.0                      1.0   \n",
       "22  30-112  71.0  ...                        2.0                      0.0   \n",
       "\n",
       "    Miscellaneous_Stats_Lost  Miscellaneous_Stats_Won%  home  game_id    Wk  \\\n",
       "7                        0.0                       NaN     0      377  38.0   \n",
       "13                       0.0                     100.0     1      375  38.0   \n",
       "14                       0.0                     100.0     1      375  38.0   \n",
       "21                       0.0                     100.0     1      373  38.0   \n",
       "22                       0.0                       NaN     0      373  38.0   \n",
       "\n",
       "       season        Date  Team Name  \n",
       "7   2023-2024  2024-05-26     alavés  \n",
       "13  2023-2024  2024-05-26      lazio  \n",
       "14  2023-2024  2024-05-26      lazio  \n",
       "21  2023-2024  2024-05-25    almería  \n",
       "22  2023-2024  2024-05-26     torino  \n",
       "\n",
       "[5 rows x 132 columns]"
      ]
     },
     "execution_count": 46,
     "metadata": {},
     "output_type": "execute_result"
    }
   ],
   "source": [
    "nan_rows = merged_df[merged_df['player_id'].isna()]\n",
    "nan_rows.head()"
   ]
  },
  {
   "cell_type": "code",
   "execution_count": 47,
   "metadata": {},
   "outputs": [],
   "source": [
    "nan_rows.to_csv('../Data/nan_rows.csv', index=False)\n"
   ]
  },
  {
   "cell_type": "code",
   "execution_count": 48,
   "metadata": {},
   "outputs": [
    {
     "data": {
      "text/html": [
       "<div>\n",
       "<style scoped>\n",
       "    .dataframe tbody tr th:only-of-type {\n",
       "        vertical-align: middle;\n",
       "    }\n",
       "\n",
       "    .dataframe tbody tr th {\n",
       "        vertical-align: top;\n",
       "    }\n",
       "\n",
       "    .dataframe thead th {\n",
       "        text-align: right;\n",
       "    }\n",
       "</style>\n",
       "<table border=\"1\" class=\"dataframe\">\n",
       "  <thead>\n",
       "    <tr style=\"text-align: right;\">\n",
       "      <th></th>\n",
       "      <th>player_id</th>\n",
       "      <th>name</th>\n",
       "      <th>club</th>\n",
       "      <th>team_match</th>\n",
       "      <th>Player</th>\n",
       "      <th>#</th>\n",
       "      <th>Nation</th>\n",
       "      <th>Pos</th>\n",
       "      <th>Age</th>\n",
       "      <th>Min</th>\n",
       "      <th>...</th>\n",
       "      <th>Miscellaneous_Stats_Recov</th>\n",
       "      <th>Miscellaneous_Stats_Won</th>\n",
       "      <th>Miscellaneous_Stats_Lost</th>\n",
       "      <th>Miscellaneous_Stats_Won%</th>\n",
       "      <th>home</th>\n",
       "      <th>game_id</th>\n",
       "      <th>Wk</th>\n",
       "      <th>season</th>\n",
       "      <th>Date</th>\n",
       "      <th>Team Name</th>\n",
       "    </tr>\n",
       "  </thead>\n",
       "  <tbody>\n",
       "  </tbody>\n",
       "</table>\n",
       "<p>0 rows × 132 columns</p>\n",
       "</div>"
      ],
      "text/plain": [
       "Empty DataFrame\n",
       "Columns: [player_id, name, club, team_match, Player, #, Nation, Pos, Age, Min, Summary_Gls, Summary_Ast, Summary_PK, Summary_PKatt, Summary_Sh, Summary_SoT, Summary_CrdY, Summary_CrdR, Summary_Touches, Summary_Tkl, Summary_Int, Summary_Blocks, Summary_xG, Summary_npxG, Summary_xAG, Summary_SCA, Summary_GCA, Summary_Cmp, Summary_pass_Att, Summary_Cmp%, Summary_PrgP, Summary_Carries, Summary_PrgC, Summary_takes_on_Att, Summary_Succ, Passing_total_Cmp, Passing_total_Att, Passing_total_Cmp%, Passing_TotDist, Passing_PrgDist, Passing_short_Cmp, Passing_short_Att, Passing_short_Cmp%, Passing_medium_Cmp, Passing_medium_Att, Passing_medium_Cmp%, Passing_long_Cmp, Passing_long_Att, Passing_long_Cmp%, Passing_Ast, Passing_xAG, Passing_xA, Passing_KP, Passing_1/3, Passing_PPA, Passing_CrsPA, Passing_PrgP, Pass_Types_Att, Pass_Types_Live, Pass_Types_Dead, Pass_Types_FK, Pass_Types_TB, Pass_Types_Sw, Pass_Types_Crs, Pass_Types_TI, Pass_Types_CK, Pass_Types_In, Pass_Types_Out, Pass_Types_Str, Pass_Types_Cmp, Pass_Types_Off, Pass_Types_Blocks, Defensive_Actions_total_Tkl, Defensive_Actions_TklW, Defensive_Actions_Def 3rd, Defensive_Actions_Mid 3rd, Defensive_Actions_Att 3rd, Defensive_Actions_dribblers_Tkl, Defensive_Actions_Att, Defensive_Actions_Tkl%, Defensive_Actions_Lost, Defensive_Actions_Blocks, Defensive_Actions_Sh, Defensive_Actions_Pass, Defensive_Actions_Int, Defensive_Actions_Tkl+Int, Defensive_Actions_Clr, Defensive_Actions_Err, Possession_Touches, Possession_Def Pen, Possession_Def 3rd, Possession_Mid 3rd, Possession_Att 3rd, Possession_Att Pen, Possession_Live, Possession_Att, Possession_Succ, Possession_Succ%, Possession_Tkld, Possession_Tkld%, ...]\n",
       "Index: []\n",
       "\n",
       "[0 rows x 132 columns]"
      ]
     },
     "execution_count": 48,
     "metadata": {},
     "output_type": "execute_result"
    }
   ],
   "source": [
    "nan_rows.loc[(nan_rows['Player'] == 'Agustín Rogel')]"
   ]
  },
  {
   "cell_type": "code",
   "execution_count": 49,
   "metadata": {},
   "outputs": [],
   "source": [
    "nan_rows_name = nan_rows['Player']"
   ]
  },
  {
   "cell_type": "code",
   "execution_count": 50,
   "metadata": {},
   "outputs": [],
   "source": [
    "players = pd.read_csv('../Data/RAW/Transfermarkt_Dataset/shortenplayers.csv')"
   ]
  },
  {
   "cell_type": "code",
   "execution_count": 51,
   "metadata": {},
   "outputs": [],
   "source": [
    "def players_in_dataset(names_list, df, column_name):\n",
    "  \"\"\"\n",
    "  Counts the number of players in the names_list that are not found in the specified column of the DataFrame.\n",
    "\n",
    "  Args:\n",
    "    names_list: A list of player names.\n",
    "    df: The pandas DataFrame to check.\n",
    "    column_name: The name of the column in the DataFrame to search.\n",
    "\n",
    "  Returns:\n",
    "    The count of players in the names_list that are not found in the DataFrame.\n",
    "  \"\"\"\n",
    "\n",
    "  count = 0\n",
    "  players_in_dataset = []\n",
    "  for name in names_list:\n",
    "    if name not in df[column_name].values:\n",
    "      count += 1\n",
    "    else:\n",
    "      players_in_dataset.append(name)\n",
    "  return count, players_in_dataset"
   ]
  },
  {
   "cell_type": "code",
   "execution_count": 52,
   "metadata": {},
   "outputs": [
    {
     "name": "stdout",
     "output_type": "stream",
     "text": [
      "Number of players in nan_rows_name not found in the dataset: 20175\n"
     ]
    }
   ],
   "source": [
    "count_not_in_dataset, players_found = players_in_dataset(nan_rows_name, players, 'name')\n",
    "\n",
    "print(f\"Number of players in nan_rows_name not found in the dataset: {count_not_in_dataset}\")"
   ]
  },
  {
   "cell_type": "code",
   "execution_count": 53,
   "metadata": {},
   "outputs": [
    {
     "name": "stdout",
     "output_type": "stream",
     "text": [
      "Players found in the dataset: []\n"
     ]
    }
   ],
   "source": [
    "\n",
    "print(f\"Players found in the dataset: {players_found}\")"
   ]
  },
  {
   "cell_type": "code",
   "execution_count": 54,
   "metadata": {},
   "outputs": [
    {
     "name": "stdout",
     "output_type": "stream",
     "text": [
      "['alavés' 'lazio' 'almería' 'torino' 'genoa' 'sevilla' 'atalanta'\n",
      " 'villarreal' 'napoli' 'rayo vallecano' 'luton town' 'sheffield utd'\n",
      " 'mallorca' 'fiorentina' 'sassuolo' 'girona' 'fulham' 'granada'\n",
      " 'celta vigo' 'getafe' 'osasuna' 'bologna' 'real madrid' 'athletic club'\n",
      " 'hellas verona' 'juventus' 'cádiz' 'valencia' 'tottenham' 'west ham'\n",
      " 'frosinone' 'barcelona' 'monza' 'wolves' 'everton' 'bournemouth'\n",
      " 'las palmas' 'burnley' 'crystal palace' 'manchester city' 'lecce'\n",
      " 'udinese' 'arsenal' 'empoli' 'inter' 'salernitana' 'brentford'\n",
      " \"nott'ham forest\" 'roma' 'real sociedad' 'betis' 'brighton'\n",
      " 'atlético madrid' 'chelsea' 'manchester utd' 'strasbourg' 'lille'\n",
      " 'rennes' 'nice' 'le havre' 'hoffenheim' 'werder bremen' 'augsburg'\n",
      " 'rb leipzig' 'monaco' 'wolfsburg' 'metz' 'lens' 'nantes' 'lyon'\n",
      " 'clermont foot' 'paris s-g' 'eint frankfurt' 'marseille' 'lorient'\n",
      " 'heidenheim' 'stuttgart' 'gladbach' 'union berlin' 'leverkusen' 'köln'\n",
      " 'toulouse' 'mainz 05' 'brest' 'bochum' 'cagliari' 'freiburg' 'reims'\n",
      " 'bayern munich' 'dortmund' 'montpellier' 'liverpool' 'darmstadt 98'\n",
      " 'milan' 'aston villa' 'newcastle utd' 'troyes' 'angers' 'espanyol'\n",
      " 'cremonese' 'spezia' 'southampton' 'elche' 'sampdoria' 'ajaccio'\n",
      " 'valladolid' 'auxerre' 'leicester city' 'schalke 04' 'hertha bsc']\n"
     ]
    }
   ],
   "source": [
    "\n",
    "# Assuming your DataFrame is named 'df'\n",
    "\n",
    "# Filter the DataFrame to include only rows where 'team_match' is NaN\n",
    "df_filtered = nan_rows[nan_rows['team_match'].isna()]\n",
    "\n",
    "# Find unique team names with 'team_match' as NaN\n",
    "unique_teams_with_nan_matches = df_filtered['Team Name'].unique()\n",
    "\n",
    "# Print the unique team names\n",
    "print(unique_teams_with_nan_matches)"
   ]
  }
 ],
 "metadata": {
  "kernelspec": {
   "display_name": "CREDIT_RATING_ENV",
   "language": "python",
   "name": "python3"
  },
  "language_info": {
   "codemirror_mode": {
    "name": "ipython",
    "version": 3
   },
   "file_extension": ".py",
   "mimetype": "text/x-python",
   "name": "python",
   "nbconvert_exporter": "python",
   "pygments_lexer": "ipython3",
   "version": "3.12.3"
  }
 },
 "nbformat": 4,
 "nbformat_minor": 2
}
